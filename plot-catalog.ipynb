{
  "nbformat": 4,
  "nbformat_minor": 0,
  "metadata": {
    "astropy-tutorials": {
      "author": "Adrian M. Price-Whelan <adrn@astro.columbia.edu> and Kelle Cruz <kellecruz@gmail.com>",
      "date": "July 2013",
      "description": "Demonstrates use of astropy.io.ascii for reading and writing ASCII data, astropy.coordinates and astropy.units for converting RA (as a sexagesimal angle) to decimal degrees, and matplotlib for making a color-magnitude diagram and on-sky locations in a mollweide projection.",
      "link_name": "Read and plot catalog information from a text file",
      "name": "",
      "published": true
    },
    "kernelspec": {
      "display_name": "Python 3",
      "language": "python",
      "name": "python3"
    },
    "language_info": {
      "codemirror_mode": {
        "name": "ipython",
        "version": 3
      },
      "file_extension": ".py",
      "mimetype": "text/x-python",
      "name": "python",
      "nbconvert_exporter": "python",
      "pygments_lexer": "ipython3",
      "version": "3.6.7"
    },
    "colab": {
      "name": "plot-catalog.ipynb",
      "provenance": []
    }
  },
  "cells": [
    {
      "cell_type": "markdown",
      "metadata": {
        "id": "98R7Jg289aC_"
      },
      "source": [
        "# Ler a informação de um catálogo a partir de um arquivo texto e fazer gráficos de alguns parâmetros\n",
        "\n",
        "## Autores\n",
        "Adrian Price-Whelan, Kelle Cruz, Stephanie T. Douglas\n",
        "\n",
        "## Tradução\n",
        "Ricardo Ogando, Micaele Vitória\n",
        "\n",
        "## Objetivos do aprendizado\n",
        "* Ler um arquivo ASCII usando o `astropy.io`\n",
        "* Converter entre representações de componentes de coordenadas usando o  `astropy.coordinates` (de horas para graus)\n",
        "* Fazer um gráfico do céu com projeção esférica usando o `matplotlib`\n",
        "\n",
        "## Palavras-chave\n",
        "arquivo entrada/saída, coordenadas, tabelas, unidades, gráficos de dispersão, matplotlib\n",
        "\n",
        "## Sumário\n",
        "\n",
        "Esse tutorial demonstra o uso do `astropy.io.ascii` para ler dados em ASCII, `astropy.coordinates` e `astropy.units` para converter Ascenção Reta (AR) (como um ângulo sexagesimal) para graus decimais, e `matplotlib` para fazer um diagrama cor-magnitude e localizações no céu em uma projeção Mollweide."
      ]
    },
    {
      "cell_type": "code",
      "metadata": {
        "colab": {
          "base_uri": "https://localhost:8080/"
        },
        "id": "H9WO1PwxD3kb",
        "outputId": "4f815128-9727-46ac-8218-453244649e62"
      },
      "source": [
        "!wget https://raw.githubusercontent.com/astropy/astropy-tutorials/main/tutorials/notebooks/plot-catalog/Young-Objects-Compilation.csv"
      ],
      "execution_count": 4,
      "outputs": [
        {
          "output_type": "stream",
          "name": "stdout",
          "text": [
            "--2021-09-13 21:58:14--  https://raw.githubusercontent.com/astropy/astropy-tutorials/main/tutorials/notebooks/plot-catalog/Young-Objects-Compilation.csv\n",
            "Resolving raw.githubusercontent.com (raw.githubusercontent.com)... 185.199.108.133, 185.199.109.133, 185.199.110.133, ...\n",
            "Connecting to raw.githubusercontent.com (raw.githubusercontent.com)|185.199.108.133|:443... connected.\n",
            "HTTP request sent, awaiting response... 200 OK\n",
            "Length: 13153 (13K) [text/plain]\n",
            "Saving to: ‘Young-Objects-Compilation.csv.1’\n",
            "\n",
            "\r          Young-Obj   0%[                    ]       0  --.-KB/s               \rYoung-Objects-Compi 100%[===================>]  12.84K  --.-KB/s    in 0s      \n",
            "\n",
            "2021-09-13 21:58:14 (94.7 MB/s) - ‘Young-Objects-Compilation.csv.1’ saved [13153/13153]\n",
            "\n"
          ]
        }
      ]
    },
    {
      "cell_type": "code",
      "metadata": {
        "colab": {
          "base_uri": "https://localhost:8080/"
        },
        "id": "gT0L1Km0-G76",
        "outputId": "4d6aa639-f78f-49f2-86cd-f5232dea8021"
      },
      "source": [
        "!wget https://raw.githubusercontent.com/astropy/astropy-tutorials/main/tutorials/notebooks/plot-catalog/simple_table.csv"
      ],
      "execution_count": 5,
      "outputs": [
        {
          "output_type": "stream",
          "name": "stdout",
          "text": [
            "--2021-09-13 21:58:28--  https://raw.githubusercontent.com/astropy/astropy-tutorials/main/tutorials/notebooks/plot-catalog/simple_table.csv\n",
            "Resolving raw.githubusercontent.com (raw.githubusercontent.com)... 185.199.109.133, 185.199.110.133, 185.199.111.133, ...\n",
            "Connecting to raw.githubusercontent.com (raw.githubusercontent.com)|185.199.109.133|:443... connected.\n",
            "HTTP request sent, awaiting response... 200 OK\n",
            "Length: 126 [text/plain]\n",
            "Saving to: ‘simple_table.csv’\n",
            "\n",
            "simple_table.csv    100%[===================>]     126  --.-KB/s    in 0s      \n",
            "\n",
            "2021-09-13 21:58:28 (4.67 MB/s) - ‘simple_table.csv’ saved [126/126]\n",
            "\n"
          ]
        }
      ]
    },
    {
      "cell_type": "code",
      "metadata": {
        "id": "dMrRnQOWLLkl",
        "outputId": "b3ceccbe-aa3d-494a-f6e6-8a471f93bf04",
        "colab": {
          "base_uri": "https://localhost:8080/"
        }
      },
      "source": [
        "!pwd"
      ],
      "execution_count": 12,
      "outputs": [
        {
          "output_type": "stream",
          "name": "stdout",
          "text": [
            "/content\n"
          ]
        }
      ]
    },
    {
      "cell_type": "code",
      "metadata": {
        "id": "lvNDid5lK9w4"
      },
      "source": [
        "!rm Young-Objects-Compilation.csv.1"
      ],
      "execution_count": 9,
      "outputs": []
    },
    {
      "cell_type": "code",
      "metadata": {
        "colab": {
          "base_uri": "https://localhost:8080/"
        },
        "id": "8fTqA5Z7F2P5",
        "outputId": "c48b4296-2d72-4b57-880e-c35beec9c588"
      },
      "source": [
        "!cat simple_table.csv"
      ],
      "execution_count": 13,
      "outputs": [
        {
          "output_type": "stream",
          "name": "stdout",
          "text": [
            "# name,ra,dec\n",
            "BLG100,17:51:00.0,-29:59:48\n",
            "BLG101,17:53:40.2,-29:49:52\n",
            "BLG102,17:56:20.2,-29:30:51\n",
            "BLG103,17:56:20.2,-30:06:22\n"
          ]
        }
      ]
    },
    {
      "cell_type": "code",
      "metadata": {
        "id": "A9OlGYUF9aDC"
      },
      "source": [
        "import numpy as np\n",
        "\n",
        "# Set up matplotlib\n",
        "import matplotlib.pyplot as plt\n",
        "%matplotlib inline"
      ],
      "execution_count": 14,
      "outputs": []
    },
    {
      "cell_type": "markdown",
      "metadata": {
        "id": "KwuCAO6W9aDD"
      },
      "source": [
        "Astropy provê funcionalidade para ler e manipular dados tabulares através do subpacote `astropy.table`. Um conjunto adicional de ferramentas para ler e escrever dados no formato ASCII, são dadas no subpacote `astropy.io.ascii`, mas usa fundamentalmente as classes e métodos implementadas no `astropy.table`.\n",
        "\n",
        "Vamos começar importando o subpacote `ascii`:"
      ]
    },
    {
      "cell_type": "code",
      "metadata": {
        "id": "Q3nIu1ox9aDD"
      },
      "source": [
        "from astropy.io import ascii"
      ],
      "execution_count": 15,
      "outputs": []
    },
    {
      "cell_type": "markdown",
      "metadata": {
        "id": "9AMlsUr89aDE"
      },
      "source": [
        "Em muitos casos, é suficiente usar a função `ascii.read('filename')` \n",
        "como uma caixa preta para ler dados de arquivos com texto em formato de tabela. \n",
        "Por padrão, essa função vai tentar descobrir como o seu dado está formatado/delimitado (por default, `guess=True`). Por exemplo, se o seu dado se parece com o a seguir:\n",
        "\n",
        "    # name,ra,dec\n",
        "    BLG100,17:51:00.0,-29:59:48\n",
        "    BLG101,17:53:40.2,-29:49:52\n",
        "    BLG102,17:56:20.2,-29:30:51\n",
        "    BLG103,17:56:20.2,-30:06:22\n",
        "    ...\n",
        "\n",
        "(veja o _simple_table.csv_)\n",
        "\n",
        "`ascii.read()` vai retornar um objeto `Table`:"
      ]
    },
    {
      "cell_type": "code",
      "metadata": {
        "id": "Lg4uLRwfPu1R",
        "outputId": "87fc5490-a86f-4134-8d02-224558fa9449",
        "colab": {
          "base_uri": "https://localhost:8080/",
          "height": 158
        }
      },
      "source": [
        "ascii.read(\"simple_table.csv\")"
      ],
      "execution_count": 17,
      "outputs": [
        {
          "output_type": "execute_result",
          "data": {
            "text/html": [
              "<div><i>Table length=4</i>\n",
              "<table id=\"table140459969236752\" class=\"table-striped table-bordered table-condensed\">\n",
              "<thead><tr><th>name</th><th>ra</th><th>dec</th></tr></thead>\n",
              "<thead><tr><th>str6</th><th>str10</th><th>str9</th></tr></thead>\n",
              "<tr><td>BLG100</td><td>17:51:00.0</td><td>-29:59:48</td></tr>\n",
              "<tr><td>BLG101</td><td>17:53:40.2</td><td>-29:49:52</td></tr>\n",
              "<tr><td>BLG102</td><td>17:56:20.2</td><td>-29:30:51</td></tr>\n",
              "<tr><td>BLG103</td><td>17:56:20.2</td><td>-30:06:22</td></tr>\n",
              "</table></div>"
            ],
            "text/plain": [
              "<Table length=4>\n",
              " name      ra        dec   \n",
              " str6    str10       str9  \n",
              "------ ---------- ---------\n",
              "BLG100 17:51:00.0 -29:59:48\n",
              "BLG101 17:53:40.2 -29:49:52\n",
              "BLG102 17:56:20.2 -29:30:51\n",
              "BLG103 17:56:20.2 -30:06:22"
            ]
          },
          "metadata": {},
          "execution_count": 17
        }
      ]
    },
    {
      "cell_type": "code",
      "metadata": {
        "colab": {
          "base_uri": "https://localhost:8080/"
        },
        "id": "8bqzpxXy9aDF",
        "outputId": "fbdec877-b430-4387-8908-43066bcb545a"
      },
      "source": [
        "tbl = ascii.read(\"simple_table.csv\")\n",
        "print(tbl)"
      ],
      "execution_count": 16,
      "outputs": [
        {
          "output_type": "stream",
          "name": "stdout",
          "text": [
            " name      ra        dec   \n",
            "------ ---------- ---------\n",
            "BLG100 17:51:00.0 -29:59:48\n",
            "BLG101 17:53:40.2 -29:49:52\n",
            "BLG102 17:56:20.2 -29:30:51\n",
            "BLG103 17:56:20.2 -30:06:22\n"
          ]
        }
      ]
    },
    {
      "cell_type": "markdown",
      "metadata": {
        "id": "OKd9LmGr9aDF"
      },
      "source": [
        "Os nomes no cabeçalho são extraídos do topo do arquivo, e o delimitador é inferido a partir do resto do arquivo -- incrível!!!!\n",
        "\n",
        "Podemos acessar as colunas diretamente usando seus nomes como 'chaves' da tabela:"
      ]
    },
    {
      "cell_type": "code",
      "metadata": {
        "colab": {
          "base_uri": "https://localhost:8080/",
          "height": 117
        },
        "id": "eArZKqRe9aDG",
        "outputId": "9f0a5fb0-a81e-490c-b76d-7192ca906c1a"
      },
      "source": [
        "tbl[\"ra\"]"
      ],
      "execution_count": 20,
      "outputs": [
        {
          "output_type": "execute_result",
          "data": {
            "text/html": [
              "&lt;Column name=&apos;ra&apos; dtype=&apos;str10&apos; length=4&gt;\n",
              "<table>\n",
              "<tr><td>17:51:00.0</td></tr>\n",
              "<tr><td>17:53:40.2</td></tr>\n",
              "<tr><td>17:56:20.2</td></tr>\n",
              "<tr><td>17:56:20.2</td></tr>\n",
              "</table>"
            ],
            "text/plain": [
              "<Column name='ra' dtype='str10' length=4>\n",
              "17:51:00.0\n",
              "17:53:40.2\n",
              "17:56:20.2\n",
              "17:56:20.2"
            ]
          },
          "metadata": {},
          "execution_count": 20
        }
      ]
    },
    {
      "cell_type": "code",
      "metadata": {
        "colab": {
          "base_uri": "https://localhost:8080/",
          "height": 97
        },
        "id": "6usjgojkHhF8",
        "outputId": "b12175ae-3f68-4c06-c1f9-7de8e8bff70d"
      },
      "source": [
        "tbl[-1]"
      ],
      "execution_count": 31,
      "outputs": [
        {
          "output_type": "execute_result",
          "data": {
            "text/html": [
              "<i>Row index=3</i>\n",
              "<table id=\"table140459969271952\">\n",
              "<thead><tr><th>name</th><th>ra</th><th>dec</th></tr></thead>\n",
              "<thead><tr><th>str6</th><th>str10</th><th>str9</th></tr></thead>\n",
              "<tr><td>BLG103</td><td>17:56:20.2</td><td>-30:06:22</td></tr>\n",
              "</table>"
            ],
            "text/plain": [
              "<Row index=3>\n",
              " name      ra        dec   \n",
              " str6    str10       str9  \n",
              "------ ---------- ---------\n",
              "BLG103 17:56:20.2 -30:06:22"
            ]
          },
          "metadata": {},
          "execution_count": 31
        }
      ]
    },
    {
      "cell_type": "markdown",
      "metadata": {
        "id": "zCa6Mbx39aDH"
      },
      "source": [
        "If we want to then convert the first RA (as a sexagesimal angle) to\n",
        "decimal degrees, for example, we can pluck out the first (0th) item in\n",
        "the column and use the `coordinates` subpackage to parse the string:"
      ]
    },
    {
      "cell_type": "code",
      "metadata": {
        "colab": {
          "base_uri": "https://localhost:8080/"
        },
        "id": "3ox-ypoa9aDI",
        "outputId": "e6e2c7ae-9ea6-458b-ed90-f3599bb0d667"
      },
      "source": [
        "import astropy.coordinates as coord\n",
        "import astropy.units as u\n",
        "\n",
        "first_row = tbl[0] # get the first (0th) row\n",
        "ra = coord.Angle(first_row[\"ra\"], unit=u.hour) # create an Angle object\n",
        "ra.degree # convert to degrees"
      ],
      "execution_count": null,
      "outputs": [
        {
          "output_type": "execute_result",
          "data": {
            "text/plain": [
              "267.75"
            ]
          },
          "metadata": {},
          "execution_count": 26
        }
      ]
    },
    {
      "cell_type": "markdown",
      "metadata": {
        "id": "wln3t7VIIajG"
      },
      "source": [
        "Qual é a conta que o astropy está fazendo por você"
      ]
    },
    {
      "cell_type": "code",
      "metadata": {
        "colab": {
          "base_uri": "https://localhost:8080/"
        },
        "id": "BHbzp4GiH9gi",
        "outputId": "6facec40-393b-4f9f-c3ad-578415a83a10"
      },
      "source": [
        "17*15+(51/60)*15"
      ],
      "execution_count": null,
      "outputs": [
        {
          "output_type": "execute_result",
          "data": {
            "text/plain": [
              "267.75"
            ]
          },
          "metadata": {},
          "execution_count": 29
        }
      ]
    },
    {
      "cell_type": "markdown",
      "metadata": {
        "id": "Q2jKq3BE9aDJ"
      },
      "source": [
        "Now let's look at a case where this breaks, and we have to specify some\n",
        "more options to the `read()` function. Our data may look a bit messier::\n",
        "\n",
        "    ,,,,2MASS Photometry,,,,,,WISE Photometry,,,,,,,,Spectra,,,,Astrometry,,,,,,,,,,,\n",
        "    Name,Designation,RA,Dec,Jmag,J_unc,Hmag,H_unc,Kmag,K_unc,W1,W1_unc,W2,W2_unc,W3,W3_unc,W4,W4_unc,Spectral Type,Spectra (FITS),Opt Spec Refs,NIR Spec Refs,pm_ra (mas),pm_ra_unc,pm_dec (mas),pm_dec_unc,pi (mas),pi_unc,radial velocity (km/s),rv_unc,Astrometry Refs,Discovery Refs,Group/Age,Note\n",
        "    ,00 04 02.84 -64 10 35.6,1.01201,-64.18,15.79,0.07,14.83,0.07,14.01,0.05,13.37,0.03,12.94,0.03,12.18,0.24,9.16,null,L1γ,,Kirkpatrick et al. 2010,,,,,,,,,,,Kirkpatrick et al. 2010,,\n",
        "    PC 0025+04,00 27 41.97 +05 03 41.7,6.92489,5.06,16.19,0.09,15.29,0.10,14.96,0.12,14.62,0.04,14.14,0.05,12.24,null,8.89,null,M9.5β,,Mould et al. 1994,,0.0105,0.0004,-0.0008,0.0003,,,,,Faherty et al. 2009,Schneider et al. 1991,,,00 32 55.84 -44 05 05.8,8.23267,-44.08,14.78,0.04,13.86,0.03,13.27,0.04,12.82,0.03,12.49,0.03,11.73,0.19,9.29,null,L0γ,,Cruz et al. 2009,,0.1178,0.0043,-0.0916,0.0043,38.4,4.8,,,Faherty et al. 2012,Reid et al. 2008,,\n",
        "    ...\n",
        "\n",
        "(see _Young-Objects-Compilation.csv_)"
      ]
    },
    {
      "cell_type": "markdown",
      "metadata": {
        "id": "QpLQ7pz59aDK"
      },
      "source": [
        "If we try to just use `ascii.read()` on this data, it fails to parse the names out and the column names become `col` followed by the number of the column:"
      ]
    },
    {
      "cell_type": "code",
      "metadata": {
        "colab": {
          "base_uri": "https://localhost:8080/"
        },
        "id": "-VulMmOz9aDK",
        "outputId": "66900701-ebf3-4b11-c83c-9dfcc9c982e4"
      },
      "source": [
        "tbl = ascii.read(\"Young-Objects-Compilation.csv\")\n",
        "tbl.colnames"
      ],
      "execution_count": null,
      "outputs": [
        {
          "output_type": "execute_result",
          "data": {
            "text/plain": [
              "['col1',\n",
              " 'col2',\n",
              " 'col3',\n",
              " 'col4',\n",
              " 'col5',\n",
              " 'col6',\n",
              " 'col7',\n",
              " 'col8',\n",
              " 'col9',\n",
              " 'col10',\n",
              " 'col11',\n",
              " 'col12',\n",
              " 'col13',\n",
              " 'col14',\n",
              " 'col15',\n",
              " 'col16',\n",
              " 'col17',\n",
              " 'col18',\n",
              " 'col19',\n",
              " 'col20',\n",
              " 'col21',\n",
              " 'col22',\n",
              " 'col23',\n",
              " 'col24',\n",
              " 'col25',\n",
              " 'col26',\n",
              " 'col27',\n",
              " 'col28',\n",
              " 'col29',\n",
              " 'col30',\n",
              " 'col31',\n",
              " 'col32',\n",
              " 'col33',\n",
              " 'col34']"
            ]
          },
          "metadata": {},
          "execution_count": 30
        }
      ]
    },
    {
      "cell_type": "code",
      "metadata": {
        "colab": {
          "base_uri": "https://localhost:8080/",
          "height": 1000
        },
        "id": "PxVvI1d2I3Fu",
        "outputId": "0b7894b8-9e7b-440b-d9c6-001da7b88128"
      },
      "source": [
        "tbl"
      ],
      "execution_count": null,
      "outputs": [
        {
          "output_type": "execute_result",
          "data": {
            "text/html": [
              "<div><i>Table length=66</i>\n",
              "<table id=\"table140461668784016\" class=\"table-striped table-bordered table-condensed\">\n",
              "<thead><tr><th>col1</th><th>col2</th><th>col3</th><th>col4</th><th>col5</th><th>col6</th><th>col7</th><th>col8</th><th>col9</th><th>col10</th><th>col11</th><th>col12</th><th>col13</th><th>col14</th><th>col15</th><th>col16</th><th>col17</th><th>col18</th><th>col19</th><th>col20</th><th>col21</th><th>col22</th><th>col23</th><th>col24</th><th>col25</th><th>col26</th><th>col27</th><th>col28</th><th>col29</th><th>col30</th><th>col31</th><th>col32</th><th>col33</th><th>col34</th></tr></thead>\n",
              "<thead><tr><th>str24</th><th>str25</th><th>str9</th><th>str6</th><th>str16</th><th>str5</th><th>str5</th><th>str5</th><th>str5</th><th>str5</th><th>str15</th><th>str6</th><th>str5</th><th>str6</th><th>str5</th><th>str6</th><th>str4</th><th>str6</th><th>str13</th><th>str14</th><th>str26</th><th>str23</th><th>str11</th><th>str9</th><th>str12</th><th>str10</th><th>str8</th><th>str6</th><th>str22</th><th>str6</th><th>str19</th><th>str23</th><th>str9</th><th>str38</th></tr></thead>\n",
              "<tr><td>--</td><td>--</td><td>--</td><td>--</td><td>2MASS Photometry</td><td>--</td><td>--</td><td>--</td><td>--</td><td>--</td><td>WISE Photometry</td><td>--</td><td>--</td><td>--</td><td>--</td><td>--</td><td>--</td><td>--</td><td>Spectra</td><td>--</td><td>--</td><td>--</td><td>Astrometry</td><td>--</td><td>--</td><td>--</td><td>--</td><td>--</td><td>--</td><td>--</td><td>--</td><td>--</td><td>--</td><td>--</td></tr>\n",
              "<tr><td>Name</td><td>Designation</td><td>RA</td><td>Dec</td><td>Jmag</td><td>J_unc</td><td>Hmag</td><td>H_unc</td><td>Kmag</td><td>K_unc</td><td>W1</td><td>W1_unc</td><td>W2</td><td>W2_unc</td><td>W3</td><td>W3_unc</td><td>W4</td><td>W4_unc</td><td>Spectral Type</td><td>Spectra (FITS)</td><td>Opt Spec Refs</td><td>NIR Spec Refs</td><td>pm_ra (mas)</td><td>pm_ra_unc</td><td>pm_dec (mas)</td><td>pm_dec_unc</td><td>pi (mas)</td><td>pi_unc</td><td>radial velocity (km/s)</td><td>rv_unc</td><td>Astrometry Refs</td><td>Discovery Refs</td><td>Group/Age</td><td>Note</td></tr>\n",
              "<tr><td>--</td><td>00 04 02.84 -64 10 35.6</td><td>1.01201</td><td>-64.18</td><td>15.79</td><td>0.07</td><td>14.83</td><td>0.07</td><td>14.01</td><td>0.05</td><td>13.37</td><td>0.03</td><td>12.94</td><td>0.03</td><td>12.18</td><td>0.24</td><td>9.16</td><td>null</td><td>L1γ</td><td>--</td><td>Kirkpatrick et al. 2010</td><td>--</td><td>--</td><td>--</td><td>--</td><td>--</td><td>--</td><td>--</td><td>--</td><td>--</td><td>--</td><td>Kirkpatrick et al. 2010</td><td>--</td><td>--</td></tr>\n",
              "<tr><td>PC 0025+04</td><td>00 27 41.97 +05 03 41.7</td><td>6.92489</td><td>5.06</td><td>16.19</td><td>0.09</td><td>15.29</td><td>0.10</td><td>14.96</td><td>0.12</td><td>14.62</td><td>0.04</td><td>14.14</td><td>0.05</td><td>12.24</td><td>null</td><td>8.89</td><td>null</td><td>M9.5β</td><td>--</td><td>Mould et al. 1994</td><td>--</td><td>0.0105</td><td>0.0004</td><td>-0.0008</td><td>0.0003</td><td>--</td><td>--</td><td>--</td><td>--</td><td>Faherty et al. 2009</td><td>Schneider et al. 1991</td><td>--</td><td>--</td></tr>\n",
              "<tr><td>--</td><td>00 32 55.84 -44 05 05.8</td><td>8.23267</td><td>-44.08</td><td>14.78</td><td>0.04</td><td>13.86</td><td>0.03</td><td>13.27</td><td>0.04</td><td>12.82</td><td>0.03</td><td>12.49</td><td>0.03</td><td>11.73</td><td>0.19</td><td>9.29</td><td>null</td><td>L0γ</td><td>--</td><td>Cruz et al. 2009</td><td>--</td><td>0.1178</td><td>0.0043</td><td>-0.0916</td><td>0.0043</td><td>38.4</td><td>4.8</td><td>--</td><td>--</td><td>Faherty et al. 2012</td><td>Reid et al. 2008</td><td>--</td><td>--</td></tr>\n",
              "<tr><td>--</td><td>00 37 43.06 -58 46 22.9</td><td>9.42942</td><td>-58.77</td><td>15.37</td><td>0.05</td><td>14.26</td><td>0.05</td><td>13.59</td><td>0.05</td><td>13.13</td><td>0.03</td><td>12.74</td><td>0.03</td><td>12.56</td><td>0.38</td><td>9.32</td><td>null</td><td>L0γ</td><td>--</td><td>Cruz et al. 2009</td><td>--</td><td>0.049</td><td>0.01</td><td>-0.051</td><td>0.02</td><td>--</td><td>--</td><td>--</td><td>--</td><td>Faherty et al. 2009</td><td>Reid et al. 2008</td><td>--</td><td>--</td></tr>\n",
              "<tr><td>--</td><td>00 45 21.43 +16 34 44.6</td><td>11.33929</td><td>16.58</td><td>13.06</td><td>0.02</td><td>12.06</td><td>0.04</td><td>11.37</td><td>0.02</td><td>10.77</td><td>0.02</td><td>10.39</td><td>0.02</td><td>9.74</td><td>0.04</td><td>8.42</td><td>0.26</td><td>L2β</td><td>--</td><td>Cruz et al. 2009</td><td>Wilson et al. 2003</td><td>0.385</td><td>0.017</td><td>-0.026</td><td>0.012</td><td>--</td><td>--</td><td>--</td><td>--</td><td>Faherty et al. 2009</td><td>Wilson et al. 2003</td><td>--</td><td>--</td></tr>\n",
              "<tr><td>--</td><td>Empire</td><td>--</td><td>--</td><td>13.8</td><td>--</td><td>13.1</td><td>--</td><td>12.5</td><td>--</td><td>12.07</td><td>0.03</td><td>11.64</td><td>0.02</td><td>11.14</td><td>0.18</td><td>9.02</td><td>null</td><td>M9β</td><td>--</td><td>Reid et al. 2008</td><td>Wilson et al. 2003</td><td>0.098</td><td>0.022</td><td>-0.051</td><td>0.01</td><td>--</td><td>--</td><td>--</td><td>--</td><td>Faherty et al. 2009</td><td>Wilson et al. 2003</td><td>--</td><td>--</td></tr>\n",
              "<tr><td>--</td><td>Flatiron</td><td>--</td><td>--</td><td>16.4</td><td>0.1</td><td>15.2</td><td>--</td><td>14.4</td><td>--</td><td>13.68</td><td>0.03</td><td>13.20</td><td>0.03</td><td>11.99</td><td>null</td><td>8.48</td><td>null</td><td>L2γ</td><td>--</td><td>Cruz et al. in prep</td><td>Cruz et al. in prep</td><td>0.044</td><td>0.024</td><td>-0.082</td><td>0.024</td><td>--</td><td>--</td><td>--</td><td>--</td><td>Faherty et al. 2009</td><td>Cruz et al. in prep</td><td>--</td><td>--</td></tr>\n",
              "<tr><td>--</td><td>Liberty</td><td>--</td><td>--</td><td>15.1</td><td>--</td><td>14.2</td><td>--</td><td>13.4</td><td>--</td><td>13.03</td><td>0.03</td><td>12.62</td><td>0.03</td><td>11.80</td><td>0.19</td><td>9.22</td><td>null</td><td>L1β</td><td>--</td><td>Cruz et al. in prep</td><td>Cruz et al. in prep</td><td>0.08</td><td>0.017</td><td>-0.062</td><td>0.02</td><td>--</td><td>--</td><td>--</td><td>--</td><td>Faherty et al. 2009</td><td>Cruz et al. 2003</td><td>--</td><td>--</td></tr>\n",
              "<tr><td>...</td><td>...</td><td>...</td><td>...</td><td>...</td><td>...</td><td>...</td><td>...</td><td>...</td><td>...</td><td>...</td><td>...</td><td>...</td><td>...</td><td>...</td><td>...</td><td>...</td><td>...</td><td>...</td><td>...</td><td>...</td><td>...</td><td>...</td><td>...</td><td>...</td><td>...</td><td>...</td><td>...</td><td>...</td><td>...</td><td>...</td><td>...</td><td>...</td><td>...</td></tr>\n",
              "<tr><td>--</td><td>Rockefeller</td><td>--</td><td>--</td><td>15.3</td><td>--</td><td>14.2</td><td>--</td><td>13.4</td><td>--</td><td>12.5</td><td>0.0</td><td>12.1</td><td>0.03</td><td>11.44</td><td>0.21</td><td>8.82</td><td>null</td><td>L5β</td><td>--</td><td>Cruz et al. in prep</td><td>Cruz et al. in prep</td><td>-0.098</td><td>0.013</td><td>-0.105</td><td>0.014</td><td>--</td><td>--</td><td>--</td><td>--</td><td>Faherty et al. 2009</td><td>Cruz et al. 2007</td><td>--</td><td>--</td></tr>\n",
              "<tr><td>--</td><td>20 13 51.52 -28 06 02.0</td><td>303.46467</td><td>-28.10</td><td>14.24</td><td>0.03</td><td>13.46</td><td>0.03</td><td>12.94</td><td>0.03</td><td>12.53</td><td>0.03</td><td>12.16</td><td>0.03</td><td>11.88</td><td>0.28</td><td>8.66</td><td>null</td><td>M9γ</td><td>--</td><td>Cruz et al. in prep</td><td>--</td><td>--</td><td>--</td><td>--</td><td>--</td><td>--</td><td>--</td><td>--</td><td>--</td><td>--</td><td>Reid et al. 2008</td><td>--</td><td>--</td></tr>\n",
              "<tr><td>--</td><td>21 26 50.40 -81 40 29.3</td><td>321.71000</td><td>-81.67</td><td>15.54</td><td>0.06</td><td>14.41</td><td>0.05</td><td>13.55</td><td>0.04</td><td>12.91</td><td>0.02</td><td>12.47</td><td>0.02</td><td>11.89</td><td>0.16</td><td>9.36</td><td>null</td><td>L3γ</td><td>--</td><td>Cruz et al. 2009</td><td>--</td><td>--</td><td>--</td><td>--</td><td>--</td><td>--</td><td>--</td><td>--</td><td>--</td><td>--</td><td>Reid et al. 2008</td><td>--</td><td>--</td></tr>\n",
              "<tr><td>--</td><td>Tribeca</td><td>--</td><td>--</td><td>16.4</td><td>0.1</td><td>15.0</td><td>--</td><td>14.1</td><td>--</td><td>13.37</td><td>0.03</td><td>12.92</td><td>0.03</td><td>12.05</td><td>0.32</td><td>8.43</td><td>null</td><td>L4β</td><td>--</td><td>Cruz et al. in prep</td><td>--</td><td>--</td><td>--</td><td>--</td><td>--</td><td>--</td><td>--</td><td>--</td><td>--</td><td>--</td><td>Cruz et al. in prep</td><td>--</td><td>--</td></tr>\n",
              "<tr><td>--</td><td>Harlem</td><td>--</td><td>--</td><td>15.5</td><td>--</td><td>14.4</td><td>--</td><td>13.6</td><td>--</td><td>12.82</td><td>0.02</td><td>12.38</td><td>0.03</td><td>11.89</td><td>0.22</td><td>9.26</td><td>null</td><td>L4γ</td><td>--</td><td>Cruz et al. in prep</td><td>--</td><td>0.111</td><td>0.013</td><td>-0.182</td><td>0.018</td><td>--</td><td>--</td><td>--</td><td>--</td><td>Faherty et al. 2009</td><td>K00</td><td>--</td><td>--</td></tr>\n",
              "<tr><td>--</td><td>22 08 13.63 +29 21 21.5</td><td>332.05679</td><td>29.36</td><td>15.80</td><td>0.09</td><td>14.79</td><td>0.07</td><td>14.15</td><td>0.07</td><td>13.35</td><td>0.03</td><td>12.89</td><td>0.03</td><td>12.58</td><td>0.39</td><td>9.30</td><td>null</td><td>L3γ</td><td>--</td><td>Cruz et al. 2009</td><td>--</td><td>0.111</td><td>0.014</td><td>-0.011</td><td>0.014</td><td>--</td><td>--</td><td>--</td><td>--</td><td>Faherty et al. 2009</td><td>Kirkpatrick et al. 2000</td><td>--</td><td>--</td></tr>\n",
              "<tr><td>--</td><td>22 13 44.9 -21 36 07</td><td>333.43715</td><td>-21.60</td><td>15.38</td><td>0.04</td><td>14.40</td><td>0.06</td><td>13.76</td><td>0.04</td><td>13.23</td><td>0.03</td><td>12.83</td><td>0.03</td><td>11.55</td><td>0.20</td><td>9.07</td><td>null</td><td>L0γ</td><td>--</td><td>Cruz et al. 2009</td><td>--</td><td>0.06</td><td>0.011</td><td>-0.063</td><td>0.017</td><td>--</td><td>--</td><td>--</td><td>--</td><td>Faherty et al. 2009</td><td>Cruz et al. 2007</td><td>--</td><td>--</td></tr>\n",
              "<tr><td>SDSS 2249+0044</td><td>22 49 53.45 +00 44 04.6</td><td>342.47273</td><td>0.73</td><td>16.59</td><td>0.12</td><td>15.42</td><td>0.11</td><td>14.36</td><td>0.07</td><td>13.58</td><td>0.03</td><td>13.14</td><td>0.05</td><td>11.28</td><td>null</td><td>7.69</td><td>null</td><td>L4γ</td><td>--</td><td>Cruz et al. in prep</td><td>Geballe et al. 2002</td><td>0.075</td><td>0.018</td><td>0.026</td><td>0.018</td><td>--</td><td>--</td><td>--</td><td>--</td><td>Faherty et al. 2009</td><td>Geballe et al. 2002</td><td>--</td><td>Binary: Allers et al. 2010</td></tr>\n",
              "<tr><td>--</td><td>Chinatown</td><td>--</td><td>--</td><td>15.8</td><td>--</td><td>14.7</td><td>--</td><td>14.0</td><td>--</td><td>13.55</td><td>0.03</td><td>13.10</td><td>0.03</td><td>11.67</td><td>0.23</td><td>8.59</td><td>null</td><td>L0γ</td><td>--</td><td>Cruz et al. in prep</td><td>--</td><td>--</td><td>--</td><td>--</td><td>--</td><td>--</td><td>--</td><td>--</td><td>--</td><td>--</td><td>Cruz et al. in prep</td><td>--</td><td>--</td></tr>\n",
              "<tr><td>--</td><td>23 22 52.99 -61 51 27.5</td><td>350.72079</td><td>-61.86</td><td>15.55</td><td>0.06</td><td>14.54</td><td>0.06</td><td>13.86</td><td>0.04</td><td>13.24</td><td>0.03</td><td>12.84</td><td>0.03</td><td>12.68</td><td>0.39</td><td>9.38</td><td>null</td><td>L2γ</td><td>--</td><td>Cruz et al. 2009</td><td>--</td><td>--</td><td>--</td><td>--</td><td>--</td><td>--</td><td>--</td><td>--</td><td>--</td><td>--</td><td>Reid et al. 2008</td><td>--</td><td>--</td></tr>\n",
              "</table></div>"
            ],
            "text/plain": [
              "<Table length=66>\n",
              "     col1                col2          ...   col33             col34           \n",
              "    str24               str25          ...    str9             str38           \n",
              "-------------- ----------------------- ... --------- --------------------------\n",
              "            --                      -- ...        --                         --\n",
              "          Name             Designation ... Group/Age                       Note\n",
              "            -- 00 04 02.84 -64 10 35.6 ...        --                         --\n",
              "    PC 0025+04 00 27 41.97 +05 03 41.7 ...        --                         --\n",
              "            -- 00 32 55.84 -44 05 05.8 ...        --                         --\n",
              "            -- 00 37 43.06 -58 46 22.9 ...        --                         --\n",
              "            -- 00 45 21.43 +16 34 44.6 ...        --                         --\n",
              "            --                  Empire ...        --                         --\n",
              "            --                Flatiron ...        --                         --\n",
              "            --                 Liberty ...        --                         --\n",
              "           ...                     ... ...       ...                        ...\n",
              "            --             Rockefeller ...        --                         --\n",
              "            -- 20 13 51.52 -28 06 02.0 ...        --                         --\n",
              "            -- 21 26 50.40 -81 40 29.3 ...        --                         --\n",
              "            --                 Tribeca ...        --                         --\n",
              "            --                  Harlem ...        --                         --\n",
              "            -- 22 08 13.63 +29 21 21.5 ...        --                         --\n",
              "            --    22 13 44.9 -21 36 07 ...        --                         --\n",
              "SDSS 2249+0044 22 49 53.45 +00 44 04.6 ...        -- Binary: Allers et al. 2010\n",
              "            --               Chinatown ...        --                         --\n",
              "            -- 23 22 52.99 -61 51 27.5 ...        --                         --"
            ]
          },
          "metadata": {},
          "execution_count": 31
        }
      ]
    },
    {
      "cell_type": "markdown",
      "metadata": {
        "id": "TBlRkhIL9aDL"
      },
      "source": [
        "What happened? The column names are just `col1`, `col2`, etc., the\n",
        "default names if `ascii.read()` is unable to parse out column\n",
        "names. We know it failed to read the column names, but also notice\n",
        "that the first row of data are strings -- something else went wrong!"
      ]
    },
    {
      "cell_type": "code",
      "metadata": {
        "colab": {
          "base_uri": "https://localhost:8080/",
          "height": 134
        },
        "id": "iBqWS_eW9aDL",
        "outputId": "75d7f9d3-690c-4d0e-b649-650356727a0e"
      },
      "source": [
        "tbl[0]"
      ],
      "execution_count": null,
      "outputs": [
        {
          "output_type": "execute_result",
          "data": {
            "text/html": [
              "<i>Row index=0</i>\n",
              "<table id=\"table140461668784016\">\n",
              "<thead><tr><th>col1</th><th>col2</th><th>col3</th><th>col4</th><th>col5</th><th>col6</th><th>col7</th><th>col8</th><th>col9</th><th>col10</th><th>col11</th><th>col12</th><th>col13</th><th>col14</th><th>col15</th><th>col16</th><th>col17</th><th>col18</th><th>col19</th><th>col20</th><th>col21</th><th>col22</th><th>col23</th><th>col24</th><th>col25</th><th>col26</th><th>col27</th><th>col28</th><th>col29</th><th>col30</th><th>col31</th><th>col32</th><th>col33</th><th>col34</th></tr></thead>\n",
              "<thead><tr><th>str24</th><th>str25</th><th>str9</th><th>str6</th><th>str16</th><th>str5</th><th>str5</th><th>str5</th><th>str5</th><th>str5</th><th>str15</th><th>str6</th><th>str5</th><th>str6</th><th>str5</th><th>str6</th><th>str4</th><th>str6</th><th>str13</th><th>str14</th><th>str26</th><th>str23</th><th>str11</th><th>str9</th><th>str12</th><th>str10</th><th>str8</th><th>str6</th><th>str22</th><th>str6</th><th>str19</th><th>str23</th><th>str9</th><th>str38</th></tr></thead>\n",
              "<tr><td>--</td><td>--</td><td>--</td><td>--</td><td>2MASS Photometry</td><td>--</td><td>--</td><td>--</td><td>--</td><td>--</td><td>WISE Photometry</td><td>--</td><td>--</td><td>--</td><td>--</td><td>--</td><td>--</td><td>--</td><td>Spectra</td><td>--</td><td>--</td><td>--</td><td>Astrometry</td><td>--</td><td>--</td><td>--</td><td>--</td><td>--</td><td>--</td><td>--</td><td>--</td><td>--</td><td>--</td><td>--</td></tr>\n",
              "</table>"
            ],
            "text/plain": [
              "<Row index=0>\n",
              " col1  col2 col3 col4       col5       col6 col7 col8 col9 col10      col11      col12 col13 col14 col15 col16 col17 col18  col19  col20 col21 col22   col23    col24 col25 col26 col27 col28 col29 col30 col31 col32 col33 col34\n",
              "str24 str25 str9 str6      str16       str5 str5 str5 str5  str5      str15       str6  str5  str6  str5  str6  str4  str6  str13  str14 str26 str23   str11     str9 str12 str10  str8  str6 str22  str6 str19 str23  str9 str38\n",
              "----- ----- ---- ---- ---------------- ---- ---- ---- ---- ----- --------------- ----- ----- ----- ----- ----- ----- ----- ------- ----- ----- ----- ---------- ----- ----- ----- ----- ----- ----- ----- ----- ----- ----- -----\n",
              "   --    --   --   -- 2MASS Photometry   --   --   --   --    -- WISE Photometry    --    --    --    --    --    --    -- Spectra    --    --    -- Astrometry    --    --    --    --    --    --    --    --    --    --    --"
            ]
          },
          "metadata": {},
          "execution_count": 32
        }
      ]
    },
    {
      "cell_type": "markdown",
      "metadata": {
        "id": "Dhrnh9_v9aDM"
      },
      "source": [
        "A few things are causing problems here. First, there are two header \n",
        "lines in the file and the header lines are not denoted by comment \n",
        "characters. The first line is actually some meta data that we don't\n",
        "care about, so we want to skip it. We can get around this problem by \n",
        "specifying the `header_start` keyword to the `ascii.read()` function. \n",
        "This keyword argument specifies the index of the row in the text file \n",
        "to read the column names from:"
      ]
    },
    {
      "cell_type": "code",
      "metadata": {
        "colab": {
          "base_uri": "https://localhost:8080/"
        },
        "id": "ciLGvg3R9aDM",
        "outputId": "ab759269-ad75-4554-fe04-525639a0894c"
      },
      "source": [
        "tbl = ascii.read(\"Young-Objects-Compilation.csv\", header_start=1)\n",
        "tbl.colnames"
      ],
      "execution_count": null,
      "outputs": [
        {
          "output_type": "execute_result",
          "data": {
            "text/plain": [
              "['Name',\n",
              " 'Designation',\n",
              " 'RA',\n",
              " 'Dec',\n",
              " 'Jmag',\n",
              " 'J_unc',\n",
              " 'Hmag',\n",
              " 'H_unc',\n",
              " 'Kmag',\n",
              " 'K_unc',\n",
              " 'W1',\n",
              " 'W1_unc',\n",
              " 'W2',\n",
              " 'W2_unc',\n",
              " 'W3',\n",
              " 'W3_unc',\n",
              " 'W4',\n",
              " 'W4_unc',\n",
              " 'Spectral Type',\n",
              " 'Spectra (FITS)',\n",
              " 'Opt Spec Refs',\n",
              " 'NIR Spec Refs',\n",
              " 'pm_ra (mas)',\n",
              " 'pm_ra_unc',\n",
              " 'pm_dec (mas)',\n",
              " 'pm_dec_unc',\n",
              " 'pi (mas)',\n",
              " 'pi_unc',\n",
              " 'radial velocity (km/s)',\n",
              " 'rv_unc',\n",
              " 'Astrometry Refs',\n",
              " 'Discovery Refs',\n",
              " 'Group/Age',\n",
              " 'Note']"
            ]
          },
          "metadata": {},
          "execution_count": 33
        }
      ]
    },
    {
      "cell_type": "markdown",
      "metadata": {
        "id": "7Tfx3t_Y9aDN"
      },
      "source": [
        "Great! Now the columns have the correct names, but there is still a\n",
        "problem: all of the columns have string data types, and the column\n",
        "names are still included as a row in the table. This is because by\n",
        "default the data are assumed to start on the second row (index=1). \n",
        "We can specify `data_start=2` to tell the reader that the data in\n",
        "this file actually start on the 3rd (index=2) row:"
      ]
    },
    {
      "cell_type": "code",
      "metadata": {
        "id": "k2HQ8yV_9aDN"
      },
      "source": [
        "tbl = ascii.read(\"Young-Objects-Compilation.csv\", header_start=1, data_start=2)"
      ],
      "execution_count": null,
      "outputs": []
    },
    {
      "cell_type": "markdown",
      "metadata": {
        "id": "D3UsayRv9aDO"
      },
      "source": [
        "Some of the columns have missing data, for example, some of the `RA` values are missing (denoted by -- when printed):"
      ]
    },
    {
      "cell_type": "code",
      "metadata": {
        "colab": {
          "base_uri": "https://localhost:8080/"
        },
        "id": "pbhkuK4c9aDO",
        "outputId": "77429765-3e2e-4bad-e793-f36279665a78"
      },
      "source": [
        "print(tbl['RA'])"
      ],
      "execution_count": null,
      "outputs": [
        {
          "output_type": "stream",
          "name": "stdout",
          "text": [
            "    RA   \n",
            "---------\n",
            "  1.01201\n",
            "  6.92489\n",
            "  8.23267\n",
            "  9.42942\n",
            " 11.33929\n",
            "       --\n",
            "       --\n",
            "       --\n",
            " 21.19163\n",
            "  21.5275\n",
            "      ...\n",
            "300.20171\n",
            "       --\n",
            "303.46467\n",
            "   321.71\n",
            "       --\n",
            "       --\n",
            "332.05679\n",
            "333.43715\n",
            "342.47273\n",
            "       --\n",
            "350.72079\n",
            "Length = 64 rows\n"
          ]
        }
      ]
    },
    {
      "cell_type": "markdown",
      "metadata": {
        "id": "iWbbSwUI9aDO"
      },
      "source": [
        "This is called a __Masked column__ because some missing values are \n",
        "masked out upon display. If we want to use this numeric data, we have\n",
        "to tell `astropy` what to fill the missing values with. We can do this\n",
        "with the `.filled()` method. For example, to fill all of the missing\n",
        "values with `NaN`'s:"
      ]
    },
    {
      "cell_type": "code",
      "metadata": {
        "colab": {
          "base_uri": "https://localhost:8080/",
          "height": 546
        },
        "id": "N4jlUMB59aDO",
        "outputId": "c76ab307-f4cd-4be6-d13d-a0849e2a1d4f"
      },
      "source": [
        "tbl['RA'].filled(np.nan)"
      ],
      "execution_count": null,
      "outputs": [
        {
          "output_type": "execute_result",
          "data": {
            "text/html": [
              "&lt;Column name=&apos;RA&apos; dtype=&apos;float64&apos; length=64&gt;\n",
              "<table>\n",
              "<tr><td>1.01201</td></tr>\n",
              "<tr><td>6.92489</td></tr>\n",
              "<tr><td>8.23267</td></tr>\n",
              "<tr><td>9.42942</td></tr>\n",
              "<tr><td>11.33929</td></tr>\n",
              "<tr><td>nan</td></tr>\n",
              "<tr><td>nan</td></tr>\n",
              "<tr><td>nan</td></tr>\n",
              "<tr><td>21.19163</td></tr>\n",
              "<tr><td>21.5275</td></tr>\n",
              "<tr><td>25.49263</td></tr>\n",
              "<tr><td>nan</td></tr>\n",
              "<tr><td>...</td></tr>\n",
              "<tr><td>299.19583</td></tr>\n",
              "<tr><td>300.20171</td></tr>\n",
              "<tr><td>nan</td></tr>\n",
              "<tr><td>303.46467</td></tr>\n",
              "<tr><td>321.71</td></tr>\n",
              "<tr><td>nan</td></tr>\n",
              "<tr><td>nan</td></tr>\n",
              "<tr><td>332.05679</td></tr>\n",
              "<tr><td>333.43715</td></tr>\n",
              "<tr><td>342.47273</td></tr>\n",
              "<tr><td>nan</td></tr>\n",
              "<tr><td>350.72079</td></tr>\n",
              "</table>"
            ],
            "text/plain": [
              "<Column name='RA' dtype='float64' length=64>\n",
              "  1.01201\n",
              "  6.92489\n",
              "  8.23267\n",
              "  9.42942\n",
              " 11.33929\n",
              "      nan\n",
              "      nan\n",
              "      nan\n",
              " 21.19163\n",
              "  21.5275\n",
              " 25.49263\n",
              "      nan\n",
              "      ...\n",
              "299.19583\n",
              "300.20171\n",
              "      nan\n",
              "303.46467\n",
              "   321.71\n",
              "      nan\n",
              "      nan\n",
              "332.05679\n",
              "333.43715\n",
              "342.47273\n",
              "      nan\n",
              "350.72079"
            ]
          },
          "metadata": {},
          "execution_count": 38
        }
      ]
    },
    {
      "cell_type": "markdown",
      "metadata": {
        "id": "jHqTlquT9aDP"
      },
      "source": [
        "Let's recap what we've done so far, then make some plots with the\n",
        "data. Our data file has an extra line above the column names, so we\n",
        "use the `header_start` keyword to tell it to start from line 1 instead\n",
        "of line 0 (remember Python is 0-indexed!). We then used had to specify\n",
        "that the data starts on line 2 using the `data_start`\n",
        "keyword. Finally, we note some columns have missing values."
      ]
    },
    {
      "cell_type": "code",
      "metadata": {
        "id": "MTS2PReD9aDP"
      },
      "source": [
        "data = ascii.read(\"Young-Objects-Compilation.csv\", header_start=1, data_start=2)"
      ],
      "execution_count": null,
      "outputs": []
    },
    {
      "cell_type": "markdown",
      "metadata": {
        "id": "kG2g3KXK9aDP"
      },
      "source": [
        "Now that we have our data loaded, let's plot a color-magnitude diagram."
      ]
    },
    {
      "cell_type": "markdown",
      "metadata": {
        "id": "4mp1FbU99aDP"
      },
      "source": [
        "Here we simply make a scatter plot of the J-K color on the x-axis\n",
        "against the J magnitude on the y-axis. We use a trick to flip the\n",
        "y-axis `plt.ylim(reversed(plt.ylim()))`. Called with no arguments,\n",
        "`plt.ylim()` will return a tuple with the axis bounds, \n",
        "e.g. (0,10). Calling the function _with_ arguments will set the limits \n",
        "of the axis, so we simply set the limits to be the reverse of whatever they\n",
        "were before. Using this `pylab`-style plotting is convenient for\n",
        "making quick plots and interactive use, but is not great if you need\n",
        "more control over your figures."
      ]
    },
    {
      "cell_type": "code",
      "metadata": {
        "colab": {
          "base_uri": "https://localhost:8080/",
          "height": 308
        },
        "id": "E1HiJkVn9aDQ",
        "outputId": "c97a4997-870d-4649-d68f-bedb405684af"
      },
      "source": [
        "plt.scatter(data[\"Jmag\"] - data[\"Kmag\"], data[\"Jmag\"]) # plot J-K vs. J\n",
        "plt.ylim(reversed(plt.ylim())) # flip the y-axis\n",
        "plt.xlabel(\"$J-K_s$\", fontsize=20)\n",
        "plt.ylabel(\"$J$\", fontsize=20)"
      ],
      "execution_count": null,
      "outputs": [
        {
          "output_type": "execute_result",
          "data": {
            "text/plain": [
              "Text(0, 0.5, '$J$')"
            ]
          },
          "metadata": {},
          "execution_count": 40
        },
        {
          "output_type": "display_data",
          "data": {
            "image/png": "[encoded data removed]",
            "text/plain": [
              "<Figure size 432x288 with 1 Axes>"
            ]
          },
          "metadata": {
            "needs_background": "light"
          }
        }
      ]
    },
    {
      "cell_type": "markdown",
      "metadata": {
        "id": "U07UKk8X9aDR"
      },
      "source": [
        "As a final example, we will plot the angular positions from the\n",
        "catalog on a 2D projection of the sky. Instead of using `pylab`-style\n",
        "plotting, we'll take a more object-oriented approach. We'll start by\n",
        "creating a `Figure` object and adding a single subplot to the\n",
        "figure. We can specify a projection with the `projection` keyword; in\n",
        "this example we will use a Mollweide projection. Unfortunately, it is \n",
        "highly non-trivial to make the matplotlib projection defined this way \n",
        "follow the celestial convention of longitude/RA increasing to the left. \n",
        "\n",
        "The axis object, `ax`, knows to expect angular coordinate\n",
        "values. An important fact is that it expects the values to be in\n",
        "_radians_, and it expects the azimuthal angle values to be between\n",
        "(-180º,180º). This is (currently) not customizable, so we have to\n",
        "coerce our RA data to conform to these rules! `astropy` provides a\n",
        "coordinate class for handling angular values, `astropy.coordinates.Angle`. \n",
        "We can convert our column of RA values to radians, and wrap the \n",
        "angle bounds using this class."
      ]
    },
    {
      "cell_type": "code",
      "metadata": {
        "id": "nTj4Gvy29aDS"
      },
      "source": [
        "ra = coord.Angle(data['RA'].filled(np.nan)*u.degree)\n",
        "ra = ra.wrap_at(180*u.degree)\n",
        "dec = coord.Angle(data['Dec'].filled(np.nan)*u.degree)"
      ],
      "execution_count": null,
      "outputs": []
    },
    {
      "cell_type": "code",
      "metadata": {
        "colab": {
          "base_uri": "https://localhost:8080/",
          "height": 280
        },
        "id": "deAPpSHZ9aDS",
        "outputId": "2ec9774c-a946-46c9-cda4-3a02efdd2d2c"
      },
      "source": [
        "fig = plt.figure(figsize=(8,6))\n",
        "ax = fig.add_subplot(111, projection=\"mollweide\")\n",
        "ax.scatter(ra.radian, dec.radian)"
      ],
      "execution_count": null,
      "outputs": [
        {
          "output_type": "execute_result",
          "data": {
            "text/plain": [
              "<matplotlib.collections.PathCollection at 0x7fbfc81ef810>"
            ]
          },
          "metadata": {},
          "execution_count": 42
        },
        {
          "output_type": "display_data",
          "data": {
            "image/png": "[encoded data removed]",
            "text/plain": [
              "<Figure size 576x432 with 1 Axes>"
            ]
          },
          "metadata": {
            "needs_background": "light"
          }
        }
      ]
    },
    {
      "cell_type": "markdown",
      "metadata": {
        "id": "wuqzQGnb9aDS"
      },
      "source": [
        "By default, matplotlib will add degree tick labels, so let's change the\n",
        "horizontal (x) tick labels to be in units of hours, and display a grid:"
      ]
    },
    {
      "cell_type": "code",
      "metadata": {
        "id": "SCl11pQF9aDT"
      },
      "source": [
        "fig = plt.figure(figsize=(8,6))\n",
        "ax = fig.add_subplot(111, projection=\"mollweide\")\n",
        "ax.scatter(ra.radian, dec.radian)\n",
        "ax.set_xticklabels(['14h','16h','18h','20h','22h','0h','2h','4h','6h','8h','10h'])\n",
        "ax.grid(True)"
      ],
      "execution_count": null,
      "outputs": []
    },
    {
      "cell_type": "markdown",
      "metadata": {
        "id": "75l-Q7Gx9aDT"
      },
      "source": [
        "We can save this figure as a PDF using the `savefig` function:"
      ]
    },
    {
      "cell_type": "code",
      "metadata": {
        "id": "VKVwB-V59aDT"
      },
      "source": [
        "fig.savefig(\"map.pdf\")"
      ],
      "execution_count": null,
      "outputs": []
    },
    {
      "cell_type": "markdown",
      "metadata": {
        "id": "S4Um_odM9aDU"
      },
      "source": [
        "## Exercises"
      ]
    },
    {
      "cell_type": "markdown",
      "metadata": {
        "id": "MX1b1MGD9aDU"
      },
      "source": [
        "Make the map figures as just above, but color the points by the `'Kmag'` column of the table."
      ]
    },
    {
      "cell_type": "code",
      "metadata": {
        "id": "E1jNS9z89aDU"
      },
      "source": [
        ""
      ],
      "execution_count": null,
      "outputs": []
    },
    {
      "cell_type": "markdown",
      "metadata": {
        "id": "DDsrFyqQ9aDU"
      },
      "source": [
        "Try making the maps again, but with each of the following projections: `aitoff`, `hammer`, `lambert`, and `None` (which is the same as not giving any projection).  Do any of them make the data seem easier to understand?"
      ]
    },
    {
      "cell_type": "code",
      "metadata": {
        "id": "dV__ULSZ9aDV"
      },
      "source": [
        ""
      ],
      "execution_count": null,
      "outputs": []
    }
  ]
}